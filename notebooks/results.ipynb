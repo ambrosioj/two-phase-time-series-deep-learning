{
 "cells": [
  {
   "cell_type": "code",
   "execution_count": null,
   "metadata": {},
   "outputs": [],
   "source": [
    "import seaborn as sns\n",
    "import pandas as pd\n",
    "import numpy as np\n",
    "import matplotlib.pyplot as plt\n",
    "from matplotlib.colors import ListedColormap\n",
    "import math\n",
    "from collections import Counter\n",
    "from sklearn.metrics import confusion_matrix, ConfusionMatrixDisplay\n",
    "import os\n",
    "import json"
   ]
  },
  {
   "cell_type": "code",
   "execution_count": null,
   "metadata": {},
   "outputs": [],
   "source": [
    "# Class labels\n",
    "class_names = [\"Bubbly\", \"Churn\", \"Slug\"]\n",
    "\n",
    "# Custom function to plot confusion matrix with class-wise percentages and accuracy\n",
    "def plot_confusion_matrix(cm, ax, title, show_y_labels=True, show_x_labels=True):\n",
    "    # Create masks for correct and incorrect classifications\n",
    "    correct_mask = np.eye(cm.shape[0], dtype=bool)\n",
    "    incorrect_mask = ~correct_mask\n",
    "\n",
    "    # Define custom colors: light green for correct, light red for incorrect\n",
    "    correct_color = \"lightgreen\"\n",
    "    incorrect_color = \"lightcoral\"\n",
    "\n",
    "    # Create a colormap with a single green and single red\n",
    "    cmap_correct = ListedColormap([correct_color])\n",
    "    cmap_incorrect = ListedColormap([incorrect_color])\n",
    "\n",
    "    # Plot correct classifications in green\n",
    "    sns.heatmap(cm, annot=False, cmap=cmap_correct, cbar=False, ax=ax,\n",
    "                mask=incorrect_mask, xticklabels=class_names, yticklabels=class_names,\n",
    "                vmin=0, vmax=np.max(cm), linewidths=.5, linecolor='gray')\n",
    "\n",
    "    # Plot incorrect classifications in red\n",
    "    sns.heatmap(cm, annot=False, cmap=cmap_incorrect, cbar=False, ax=ax,\n",
    "                mask=correct_mask, xticklabels=class_names, yticklabels=class_names,\n",
    "                vmin=0, vmax=np.max(cm), linewidths=.5, linecolor='gray')\n",
    "\n",
    "    # Add absolute and class-wise percentage values\n",
    "    row_sums = np.sum(cm, axis=1)  # Total per class\n",
    "    for i in range(cm.shape[0]):\n",
    "        for j in range(cm.shape[1]):\n",
    "            absolute_value = cm[i, j]\n",
    "            class_percentage = absolute_value / row_sums[i] * 100 if row_sums[i] > 0 else 0\n",
    "\n",
    "            # Center the text with some padding\n",
    "            ax.text(j + 0.5, i + 0.5, f'{absolute_value}\\n({class_percentage:.2f}%)',\n",
    "                    ha='center', va='center',\n",
    "                    color='black',\n",
    "                    fontsize=10, weight='bold',\n",
    "                    bbox=dict(facecolor='none', edgecolor='none', boxstyle='round,pad=0.3'))\n",
    "\n",
    "    # Calculate and display accuracy\n",
    "    total_correct = np.trace(cm)  # Sum of diagonal elements\n",
    "    total_samples = np.sum(cm)\n",
    "    accuracy = total_correct / total_samples * 100\n",
    "    accuracy_text = f'{title}\\nAccuracy: {accuracy:.2f}%'\n",
    "\n",
    "    ax.set_title(accuracy_text)\n",
    "\n",
    "    if show_x_labels:\n",
    "        ax.set_xlabel('Predicted labels')\n",
    "    else:\n",
    "        ax.set_xlabel('')  # Remove x-axis label\n",
    "\n",
    "    if show_y_labels:\n",
    "        ax.set_ylabel('True labels')\n",
    "    else:\n",
    "        ax.set_ylabel('')  # Remove y-axis label"
   ]
  },
  {
   "cell_type": "code",
   "execution_count": null,
   "metadata": {},
   "outputs": [],
   "source": [
    "hzdr_data = np.load(\"../data/window_4000_overlap_1000_hzdr_norm.npy\")\n",
    "tud_data = np.load(\"../data/window_4000_overlap_1000_tud_norm.npy\")\n",
    "\n",
    "print(f\"HZDR data shape: {hzdr_data.shape}\")\n",
    "print(f\"TUD data shape: {tud_data.shape}\")"
   ]
  },
  {
   "cell_type": "markdown",
   "metadata": {},
   "source": [
    "# Single Dataset"
   ]
  },
  {
   "cell_type": "markdown",
   "metadata": {},
   "source": [
    "## HZDR Dataset"
   ]
  },
  {
   "cell_type": "code",
   "execution_count": null,
   "metadata": {},
   "outputs": [],
   "source": [
    "# Load confusion matrices\n",
    "cm_resnet = np.load(\"../metrics/single_dataset/window_4000_overlap_1000_hzdr_norm/{}_ResNet_cm.npy\")\n",
    "cm_lstm = np.load(\"../metrics/single_dataset/window_4000_overlap_1000_hzdr_norm/{}_LSTM-FCN_cm.npy\")\n",
    "cm_tst = np.load(\"../metrics/single_dataset/window_4000_overlap_1000_hzdr_norm/{}_TSTPlus_cm.npy\")\n",
    "cm_svm = np.load(\"../metrics/single_dataset/window_4000_overlap_1000_hzdr_norm/svm_test_cm.npy\")\n",
    "\n",
    "# Create a figure with 4 subplots\n",
    "fig, axes = plt.subplots(2, 2, figsize=(8, 7))\n",
    "\n",
    "# Plot each confusion matrix\n",
    "plot_confusion_matrix(cm_resnet, axes[0, 0], \"ResNet\", show_y_labels=True, show_x_labels=False)\n",
    "plot_confusion_matrix(cm_lstm, axes[0, 1], \"LSTM-FCN\", show_y_labels=False, show_x_labels=False)\n",
    "plot_confusion_matrix(cm_tst, axes[1, 0], \"TSTPlus\", show_y_labels=True, show_x_labels=True)\n",
    "plot_confusion_matrix(cm_svm, axes[1, 1], \"SVM\", show_y_labels=False, show_x_labels=True)\n",
    "\n",
    "# Adjust layout to prevent overlap\n",
    "plt.tight_layout()\n",
    "\n",
    "# Show the plot\n",
    "plt.show()"
   ]
  },
  {
   "cell_type": "markdown",
   "metadata": {},
   "source": [
    "## TUD Dataset"
   ]
  },
  {
   "cell_type": "code",
   "execution_count": null,
   "metadata": {},
   "outputs": [],
   "source": [
    "cm_resnet = np.load(\"../metrics/single_dataset/window_4000_overlap_1000_tud_norm/{}_ResNet_cm.npy\")\n",
    "cm_lstm = np.load(\"../metrics/single_dataset/window_4000_overlap_1000_tud_norm/{}_LSTM-FCN_cm.npy\")\n",
    "cm_tst = np.load(\"../metrics/single_dataset/window_4000_overlap_1000_tud_norm/{}_TSTPlus_cm.npy\")\n",
    "cm_svm = np.load(\"../metrics/single_dataset/window_4000_overlap_1000_tud_norm/svm_test_cm.npy\")\n",
    "\n",
    "# Create a figure with 4 subplots\n",
    "fig, axes = plt.subplots(2, 2, figsize=(8, 7))\n",
    "\n",
    "# Plot each confusion matrix\n",
    "plot_confusion_matrix(cm_resnet, axes[0, 0], \"ResNet\", show_y_labels=True, show_x_labels=False)\n",
    "plot_confusion_matrix(cm_lstm, axes[0, 1], \"LSTM-FCN\", show_y_labels=False, show_x_labels=False)\n",
    "plot_confusion_matrix(cm_tst, axes[1, 0], \"TSTPlus\", show_y_labels=True, show_x_labels=True)\n",
    "plot_confusion_matrix(cm_svm, axes[1, 1], \"SVM\", show_y_labels=False, show_x_labels=True)\n",
    "\n",
    "\n",
    "# Adjust layout to prevent overlap\n",
    "plt.tight_layout()\n",
    "\n",
    "# Show the plot\n",
    "plt.show()"
   ]
  },
  {
   "cell_type": "markdown",
   "metadata": {},
   "source": [
    "# Cross Dasesets"
   ]
  },
  {
   "cell_type": "markdown",
   "metadata": {},
   "source": [
    "## TUD to HZDR"
   ]
  },
  {
   "cell_type": "code",
   "execution_count": null,
   "metadata": {},
   "outputs": [],
   "source": [
    "cm_resnet = np.load(\"../metrics/cross_dataset/window_4000_overlap_1000_tud_norm/{}_ResNet_cm.npy\")\n",
    "cm_lstm = np.load(\"../metrics/cross_dataset/window_4000_overlap_1000_tud_norm/{}_LSTM-FCN_cm.npy\")\n",
    "cm_tst = np.load(\"../metrics/cross_dataset/window_4000_overlap_1000_tud_norm/{}_TSTPlus_cm.npy\")\n",
    "cm_svm = np.load(\"../metrics/cross_dataset/window_4000_overlap_1000_tud_norm/svm_test_cm.npy\")\n",
    "\n",
    "# Create a figure with 4 subplots\n",
    "fig, axes = plt.subplots(2, 2, figsize=(8, 7))\n",
    "\n",
    "# Plot each confusion matrix\n",
    "plot_confusion_matrix(cm_resnet, axes[0, 0], \"ResNet\", show_y_labels=True, show_x_labels=False)\n",
    "plot_confusion_matrix(cm_lstm, axes[0, 1], \"LSTM-FCN\", show_y_labels=False, show_x_labels=False)\n",
    "plot_confusion_matrix(cm_tst, axes[1, 0], \"TSTPlus\", show_y_labels=True, show_x_labels=True)\n",
    "plot_confusion_matrix(cm_svm, axes[1, 1], \"SVM\", show_y_labels=False, show_x_labels=True)\n",
    "\n",
    "\n",
    "# Adjust layout to prevent overlap\n",
    "plt.tight_layout()\n",
    "\n",
    "# Show the plot\n",
    "plt.show()"
   ]
  },
  {
   "cell_type": "markdown",
   "metadata": {},
   "source": [
    "## HZDR to TUD"
   ]
  },
  {
   "cell_type": "code",
   "execution_count": null,
   "metadata": {},
   "outputs": [],
   "source": [
    "cm_resnet = np.load(\"../metrics/cross_dataset/window_4000_overlap_1000_hzdr_norm/{}_ResNet_cm.npy\")\n",
    "cm_lstm = np.load(\"../metrics/cross_dataset/window_4000_overlap_1000_hzdr_norm/{}_LSTM-FCN_cm.npy\")\n",
    "cm_tst = np.load(\"../metrics/cross_dataset/window_4000_overlap_1000_hzdr_norm/{}_TSTPlus_cm.npy\")\n",
    "cm_svm = np.load(\"../metrics/cross_dataset/window_4000_overlap_1000_hzdr_norm/svm_test_cm.npy\")\n",
    "\n",
    "# Create a figure with 4 subplots\n",
    "fig, axes = plt.subplots(2, 2, figsize=(8, 7))\n",
    "\n",
    "# Plot each confusion matrix\n",
    "plot_confusion_matrix(cm_resnet, axes[0, 0], \"ResNet\", show_y_labels=True, show_x_labels=False)\n",
    "plot_confusion_matrix(cm_lstm, axes[0, 1], \"LSTM-FCN\", show_y_labels=False, show_x_labels=False)\n",
    "plot_confusion_matrix(cm_tst, axes[1, 0], \"TSTPlus\", show_y_labels=True, show_x_labels=True)\n",
    "plot_confusion_matrix(cm_svm, axes[1, 1], \"SVM\", show_y_labels=False, show_x_labels=True)\n",
    "\n",
    "# Adjust layout to prevent overlap\n",
    "plt.tight_layout()\n",
    "\n",
    "# Show the plot\n",
    "plt.show()"
   ]
  }
 ],
 "metadata": {
  "kernelspec": {
   "display_name": "ieee-article-env",
   "language": "python",
   "name": "python3"
  },
  "language_info": {
   "codemirror_mode": {
    "name": "ipython",
    "version": 3
   },
   "file_extension": ".py",
   "mimetype": "text/x-python",
   "name": "python",
   "nbconvert_exporter": "python",
   "pygments_lexer": "ipython3",
   "version": "3.12.8"
  }
 },
 "nbformat": 4,
 "nbformat_minor": 2
}
